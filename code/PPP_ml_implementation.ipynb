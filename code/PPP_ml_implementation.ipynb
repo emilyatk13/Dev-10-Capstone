{
 "cells": [
  {
   "cell_type": "markdown",
   "metadata": {},
   "source": [
    "# Loan Repayment Model"
   ]
  },
  {
   "cell_type": "markdown",
   "metadata": {},
   "source": [
    "Throughout our analysis of the PPP data, we anchored our focus around what happened during the loan program. Who received the loans, how did they use it, was there a connection to unemployment rates? For machine learning, we shifted from focusing on what the loan program was like in practice to how to optimize future implementation of a similar program.\n",
    "Throughout the course of the Paycheck Protection Program, the US government forgave $742 billion of the $793 billion of loans dispersed. Given the large scale of the PPP data (over 11 million total loans), this still left a meaningful number of unforgiven loans. For our predictive modeling, our group decided created a model that predicts whether or not a borrower will pay back their loan based on key information including the industry, age of the business, and the demographics of the owner."
   ]
  },
  {
   "cell_type": "markdown",
   "metadata": {},
   "source": [
    "Importing key libraries for SQL import, visualizations, and model"
   ]
  },
  {
   "cell_type": "code",
   "execution_count": 22,
   "metadata": {},
   "outputs": [],
   "source": [
    "#import libraries\n",
    "import pymssql\n",
    "import dash\n",
    "from dash import dcc\n",
    "from dash import dcc, html\n",
    "import plotly.express as px\n",
    "import plotly.graph_objects as go\n",
    "\n",
    "import profile\n",
    "import numpy as np\n",
    "import pandas as pd\n",
    "import matplotlib.pyplot as plt\n",
    "%matplotlib inline\n",
    "import seaborn as sns\n",
    "\n",
    "from sklearn.model_selection import train_test_split, cross_val_score, RepeatedStratifiedKFold, GridSearchCV\n",
    "from sklearn.ensemble import RandomForestClassifier\n",
    "from sklearn import metrics\n",
    "from sklearn.metrics import accuracy_score, confusion_matrix, classification_report, roc_auc_score, roc_curve, auc, plot_confusion_matrix, matthews_corrcoef, f1_score\n",
    "from sklearn.tree import DecisionTreeClassifier\n",
    "from sklearn.linear_model import LogisticRegression\n",
    "from sklearn.svm import SVC, LinearSVC\n",
    "from sklearn.feature_selection import SelectKBest, f_classif, mutual_info_classif, RFE, RFECV\n",
    "from sklearn.calibration import CalibratedClassifierCV\n",
    "from sklearn.preprocessing import StandardScaler\n",
    "from sklearn.neighbors import KNeighborsClassifier\n",
    "\n",
    "import warnings\n",
    "warnings.filterwarnings('ignore')"
   ]
  },
  {
   "cell_type": "code",
   "execution_count": 23,
   "metadata": {},
   "outputs": [],
   "source": [
    "database = \"group-2-capstone\"\n",
    "username = \"group_2\"\n",
    "password  = 'Sp0ngeB0b'\n",
    "server = \"gen10-data-fundamentals-22-07-sql-server.database.windows.net\"\n",
    "port = \"1433\""
   ]
  },
  {
   "cell_type": "code",
   "execution_count": null,
   "metadata": {},
   "outputs": [],
   "source": [
    "#import SQL server\n",
    "from config import database\n",
    "from config import username\n",
    "from config import password\n",
    "from config import server"
   ]
  },
  {
   "cell_type": "code",
   "execution_count": 24,
   "metadata": {},
   "outputs": [],
   "source": [
    "#table variables\n",
    "PPPLoanInfo = \"dbo.PPPLoanInfo\"\n",
    "PPPLender = 'dbo.PPPLender'\n",
    "Unemployment = 'dbo.Unemployment'\n",
    "CensusInfo = \"dbo.CensusInfo\"\n",
    "PPPBorrower = \"dbo.PPPBorrower\"\n",
    "State = \"dbo.State\"\n",
    "Industry = \"dbo.Industry\"\n",
    "DemographicInfo = 'dbo.DemographicInfo'\n",
    "BusinessAgeDescription = 'dbo.BusinessAgeDescription'\n",
    "BusinessType = 'dbo.BusinessType'"
   ]
  },
  {
   "cell_type": "code",
   "execution_count": 25,
   "metadata": {},
   "outputs": [],
   "source": [
    "#connection variables\n",
    "conn = pymssql.connect(server,username, password,database)\n",
    "cursor = conn.cursor()"
   ]
  },
  {
   "cell_type": "markdown",
   "metadata": {},
   "source": [
    "In order to provide the machine learning algorithm a meaningful dataset, we are taking a few steps to clean our data. First, we are importing target rows from our SQL database. We selected these rows based on analysis of the original PPP data. We're filtering out where Race, Ethnicity, Sex, Business Age Description, and State Name are unanswered."
   ]
  },
  {
   "cell_type": "code",
   "execution_count": 7,
   "metadata": {},
   "outputs": [],
   "source": [
    "#sql query\n",
    "ml_query = f'''select distinct LoanNumber, \n",
    "LoanStatus, \n",
    "BusinessAgeDescription, \n",
    "BusinessTypeDescription, \n",
    "Race, \n",
    "Ethnicity, \n",
    "Sex,\n",
    "IndustryName,\n",
    "StateName,\n",
    "HubzoneIndicator,\n",
    "LMIIndicator,\n",
    "sum(CurrentApprovalAmount) as CurrentApprovalAmount, \n",
    "sum(ForgivenessAmount) as ForgivenessAmount\n",
    "from {PPPLoanInfo}\n",
    "join {PPPBorrower} on PPPLoanInfo.PPPBorrowerID = PPPBorrower.PPPBorrowerID\n",
    "join {BusinessAgeDescription} on PPPBorrower.BusinessAgeDescID = BusinessAgeDescription.BusinessAgeDescID\n",
    "join {BusinessType} on PPPBorrower.BusinessTypeID = BusinessType.BusinessTypeID\n",
    "join {CensusInfo} on PPPBorrower.CensusID = CensusInfo.CensusID\n",
    "join {DemographicInfo} on CensusInfo.DemographicID = DemographicInfo.DemographicID\n",
    "join {Industry} on CensusInfo.IndustryID = Industry.IndustryID\n",
    "join {State} on CensusInfo.StateID = [State].[StateID]\n",
    "where Race not like '%Unanswered%'\n",
    "and Ethnicity not like '%Unanswered%'\n",
    "and Sex not like '%Unanswered%'\n",
    "and BusinessAgeDescription not like '%Unanswered%'\n",
    "and StateName not like '%Unanswered%'\n",
    "group by HubzoneIndicator, LMIIndicator, LoanStatus, Ethnicity, Sex, BusinessAgeDescription, Race, IndustryName, BusinessTypeDescription, StateName, LoanNumber\n",
    "order by LoanNumber'''"
   ]
  },
  {
   "cell_type": "code",
   "execution_count": 27,
   "metadata": {},
   "outputs": [],
   "source": [
    "#read in sql query\n",
    "ml_df = pd.read_sql(ml_query, conn)"
   ]
  },
  {
   "cell_type": "markdown",
   "metadata": {},
   "source": [
    "After the SQL import, we're checking a few metrics to ensure that the data imported correctly. It all looks good!"
   ]
  },
  {
   "cell_type": "code",
   "execution_count": 28,
   "metadata": {},
   "outputs": [
    {
     "data": {
      "text/plain": [
       "(1510537, 13)"
      ]
     },
     "execution_count": 28,
     "metadata": {},
     "output_type": "execute_result"
    }
   ],
   "source": [
    "#checking DF\n",
    "ml_df.shape"
   ]
  },
  {
   "cell_type": "code",
   "execution_count": 29,
   "metadata": {},
   "outputs": [
    {
     "data": {
      "text/plain": [
       "White                        928939\n",
       "Black or African American    429616\n",
       "Asian                        151982\n",
       "Name: Race, dtype: int64"
      ]
     },
     "execution_count": 29,
     "metadata": {},
     "output_type": "execute_result"
    }
   ],
   "source": [
    "#checking DF - this is a key metric that will indicate if the distribution of this data set is accurate to our original PPP loan dataset\n",
    "ml_df['Race'].value_counts()"
   ]
  },
  {
   "cell_type": "markdown",
   "metadata": {},
   "source": [
    "In order filter our data down to only loans with an outstanding balance, we're creating a column, difference, that captures the difference between the amount of money loaned to the borrower and the amount of money forgiven and then filtering our data frame so that only loans with an outstanding balance remain."
   ]
  },
  {
   "cell_type": "code",
   "execution_count": 30,
   "metadata": {},
   "outputs": [],
   "source": [
    "#creating a column to determine if a business's loans were entirely forgiven\n",
    "ml_df['Difference'] = ml_df['CurrentApprovalAmount'] - ml_df['ForgivenessAmount']\n",
    "\n",
    "#filtering out loans that were entirely forgiven\n",
    "unpaid = ml_df['Difference'] > 0\n",
    "remaining_balance_df = ml_df[unpaid].copy()\n",
    "remaining_balance_df.drop(columns='Difference', inplace=True)"
   ]
  },
  {
   "cell_type": "markdown",
   "metadata": {},
   "source": [
    "Machine learning models need to work with numerical data. We're creating dummy variables on all categorcal columns in order to create a our algorithm."
   ]
  },
  {
   "cell_type": "code",
   "execution_count": 31,
   "metadata": {},
   "outputs": [],
   "source": [
    "df = pd.get_dummies(remaining_balance_df, columns=['StateName', 'LoanStatus', 'Race', 'Ethnicity', 'BusinessTypeDescription', 'BusinessAgeDescription','Sex', 'IndustryName','HubzoneIndicator','LMIIndicator'], drop_first=True)"
   ]
  },
  {
   "cell_type": "markdown",
   "metadata": {},
   "source": [
    "Our target row for this model is ‘Loan Status.’ According to the PPP data dictionary, a loan is either labeled as ‘Paid in Full’ or ‘Exemption 4.’ The Small Business Administration defines Exemption 4 as “when the loan is disbursed but not Paid in Full or Charged Off.” Therefore, of the loans with an outstanding balance, the loan status tells us whether or not a business has fully paid their loan.\n",
    "\n",
    "Our x data set will include all columns execpt for our target, the Loan Status. Our y stat set will include only the loan status column."
   ]
  },
  {
   "cell_type": "code",
   "execution_count": 32,
   "metadata": {},
   "outputs": [],
   "source": [
    "#creating X and Y tables\n",
    "x = df.copy().drop(columns='LoanStatus_Paid in Full')\n",
    "y = df.copy()['LoanStatus_Paid in Full']"
   ]
  },
  {
   "cell_type": "markdown",
   "metadata": {},
   "source": [
    "We are using the stratify feature here to ensure that the distribution of Exemption 4 to Paid in Full is the same as in the data set. This will ensure that our model is working with an accurate subset of the data."
   ]
  },
  {
   "cell_type": "code",
   "execution_count": 33,
   "metadata": {},
   "outputs": [],
   "source": [
    "#creating sets for model\n",
    "X_train, X_test, y_train, y_test = train_test_split(x, y, test_size=0.2, stratify=df['LoanStatus_Paid in Full'],random_state=1)"
   ]
  },
  {
   "cell_type": "markdown",
   "metadata": {},
   "source": [
    "Printing the train and test sets to make sure everything looks accurate!"
   ]
  },
  {
   "cell_type": "code",
   "execution_count": 34,
   "metadata": {},
   "outputs": [
    {
     "name": "stdout",
     "output_type": "stream",
     "text": [
      "Train (38877, 96) (38877,)\n",
      "Test (9720, 96) (9720,)\n"
     ]
    }
   ],
   "source": [
    "#checking sets\n",
    "print('Train', X_train.shape, y_train.shape)\n",
    "print('Test', X_test.shape, y_test.shape)"
   ]
  },
  {
   "cell_type": "markdown",
   "metadata": {},
   "source": [
    "We will use K Nearest Neighbors for our model. More explanation of the algorithm is below when we implement the model.\n",
    "\n",
    "Given that KNN classifies a point based on its proximity to other points, we are standardizing our data by running the standard scaler feature on our X train and test data sets. "
   ]
  },
  {
   "cell_type": "code",
   "execution_count": 35,
   "metadata": {},
   "outputs": [],
   "source": [
    "#scaling data for KNN model\n",
    "sc_X = StandardScaler()\n",
    "X_train = sc_X.fit_transform(X_train)\n",
    "X_test = sc_X.transform(X_test)"
   ]
  },
  {
   "cell_type": "markdown",
   "metadata": {},
   "source": [
    "In order to determine the variance of features and understand their importance to the model, we're running ANOVA tests on all features. While the results are slightly harder to interpret as most features are represented as dummy variables, we are using this to understand broader categories and their importance."
   ]
  },
  {
   "cell_type": "code",
   "execution_count": 36,
   "metadata": {},
   "outputs": [
    {
     "name": "stdout",
     "output_type": "stream",
     "text": [
      "Feature 0: 0.000712\n",
      "Feature 1: 216.575704\n",
      "Feature 2: 66.747099\n",
      "Feature 3: 4.322884\n",
      "Feature 4: 1.377234\n",
      "Feature 5: 12.782956\n",
      "Feature 6: 117.290194\n",
      "Feature 7: 5.430955\n",
      "Feature 8: 2.698052\n",
      "Feature 9: 5.570238\n",
      "Feature 10: 149.626546\n",
      "Feature 11: 32.545287\n",
      "Feature 12: 1.670474\n",
      "Feature 13: 3.396558\n",
      "Feature 14: 12.015473\n",
      "Feature 15: 28.638986\n",
      "Feature 16: 84.586442\n",
      "Feature 17: 89.652323\n",
      "Feature 18: 18.672558\n",
      "Feature 19: 34.003319\n",
      "Feature 20: 16.980111\n",
      "Feature 21: 13.961869\n",
      "Feature 22: 0.054673\n",
      "Feature 23: 4.616929\n",
      "Feature 24: 54.516639\n",
      "Feature 25: 21.607631\n",
      "Feature 26: 29.818636\n",
      "Feature 27: 47.199878\n",
      "Feature 28: 111.855560\n",
      "Feature 29: 7.558782\n",
      "Feature 30: 18.290332\n",
      "Feature 31: 62.865035\n",
      "Feature 32: 0.455305\n",
      "Feature 33: 460.231898\n",
      "Feature 34: 2.313746\n",
      "Feature 35: 42.541540\n",
      "Feature 36: 40.454575\n",
      "Feature 37: 40.892714\n",
      "Feature 38: 1.886605\n",
      "Feature 39: 3.493840\n",
      "Feature 40: 5.054370\n",
      "Feature 41: 0.311147\n",
      "Feature 42: 46.896564\n",
      "Feature 43: 4.165804\n",
      "Feature 44: 4.242699\n",
      "Feature 45: 0.720706\n",
      "Feature 46: 1.945161\n",
      "Feature 47: 13.126033\n",
      "Feature 48: 3.103539\n",
      "Feature 49: 16.521287\n",
      "Feature 50: 57.036489\n",
      "Feature 51: 3.721354\n",
      "Feature 52: 2892.654516\n",
      "Feature 53: 1241.290877\n",
      "Feature 54: 159.222315\n",
      "Feature 55: 3.047022\n",
      "Feature 56: 98.065876\n",
      "Feature 57: nan\n",
      "Feature 58: 0.143875\n",
      "Feature 59: 352.616110\n",
      "Feature 60: 0.287759\n",
      "Feature 61: 13.608901\n",
      "Feature 62: 3.790549\n",
      "Feature 63: 2.303022\n",
      "Feature 64: 1.095716\n",
      "Feature 65: 2.399349\n",
      "Feature 66: 4.255443\n",
      "Feature 67: 81.543117\n",
      "Feature 68: 4.494415\n",
      "Feature 69: 209.667746\n",
      "Feature 70: 29.069099\n",
      "Feature 71: 2.547260\n",
      "Feature 72: 1.781641\n",
      "Feature 73: 2.382170\n",
      "Feature 74: 1.417666\n",
      "Feature 75: 2.595392\n",
      "Feature 76: 59.250852\n",
      "Feature 77: 81.862573\n",
      "Feature 78: 14.724951\n",
      "Feature 79: 0.551931\n",
      "Feature 80: 4.529869\n",
      "Feature 81: 3.034698\n",
      "Feature 82: 41.666619\n",
      "Feature 83: 22.495887\n",
      "Feature 84: 0.019120\n",
      "Feature 85: 38.108868\n",
      "Feature 86: 3.168596\n",
      "Feature 87: 24.879778\n",
      "Feature 88: 4.091075\n",
      "Feature 89: 4.943316\n",
      "Feature 90: 65.336723\n",
      "Feature 91: 184.957968\n",
      "Feature 92: 0.230426\n",
      "Feature 93: 1.380680\n",
      "Feature 94: 19.913962\n",
      "Feature 95: 136.240173\n"
     ]
    },
    {
     "data": {
      "image/png": "[encoded data removed]",
      "text/plain": [
       "<Figure size 432x288 with 1 Axes>"
      ]
     },
     "metadata": {
      "needs_background": "light"
     },
     "output_type": "display_data"
    }
   ],
   "source": [
    "def anova_select_features(X_train, y_train, X_test):\n",
    "    # configure to select all features\n",
    "    afs = SelectKBest(score_func=f_classif, k='all')\n",
    "\n",
    "    # learn relationship from training data\n",
    "    afs.fit(X_train, y_train)\n",
    "\n",
    "    # transform train and test input data\n",
    "    X_train_fs = afs.transform(X_train)\n",
    "    X_test_fs = afs.transform(X_test)\n",
    "\n",
    "    return X_train_fs, X_test_fs, afs\n",
    "\n",
    "X_train_fs, X_test_fs, afs = anova_select_features(X_train, y_train, X_test)\n",
    "\n",
    "for i in range(len(afs.scores_)):\n",
    "    print('Feature %d: %f' % (i, afs.scores_[i]))\n",
    "\n",
    "#prints bar chart, this doens't help too much as we have a ton of features\n",
    "plt.bar([i for i in range(len(afs.scores_))], afs.scores_)\n",
    "plt.show()"
   ]
  },
  {
   "cell_type": "code",
   "execution_count": 37,
   "metadata": {},
   "outputs": [],
   "source": [
    "#printing out a list to make a little more sense of important features\n",
    "index_values = ['LoanNumber', 'CurrentApprovalAmount', 'ForgivenessAmount',\n",
    "       'StateName_Alaska', 'StateName_Arizona', 'StateName_Arkansas',\n",
    "       'StateName_California', 'StateName_Colorado', 'StateName_Connecticut',\n",
    "       'StateName_Delaware', 'StateName_Florida', 'StateName_Georgia',\n",
    "       'StateName_Hawaii', 'StateName_Idaho', 'StateName_Illinois',\n",
    "       'StateName_Indiana', 'StateName_Iowa', 'StateName_Kansas',\n",
    "       'StateName_Kentucky', 'StateName_Louisiana', 'StateName_Maine',\n",
    "       'StateName_Maryland', 'StateName_Massachusetts', 'StateName_Michigan',\n",
    "       'StateName_Minnesota', 'StateName_Mississippi', 'StateName_Missouri',\n",
    "       'StateName_Montana', 'StateName_Nebraska', 'StateName_Nevada',\n",
    "       'StateName_New Hampshire', 'StateName_New Jersey',\n",
    "       'StateName_New Mexico', 'StateName_New York',\n",
    "       'StateName_North Carolina', 'StateName_North Dakota', 'StateName_Ohio',\n",
    "       'StateName_Oklahoma', 'StateName_Oregon', 'StateName_Pennsylvania',\n",
    "       'StateName_Rhode Island', 'StateName_South Carolina',\n",
    "       'StateName_South Dakota', 'StateName_Tennessee', 'StateName_Texas',\n",
    "       'StateName_Utah', 'StateName_Vermont', 'StateName_Virginia',\n",
    "       'StateName_Washington', 'StateName_West Virginia',\n",
    "       'StateName_Wisconsin', 'StateName_Wyoming',\n",
    "       'Race_Black or African American', 'Race_White',\n",
    "       'Ethnicity_Non-Hispanic', 'BusinessTypeDescription_Cooperative',\n",
    "       'BusinessTypeDescription_Corporation',\n",
    "       'BusinessTypeDescription_Employee Stock Ownership Plan(ESOP)',\n",
    "       'BusinessTypeDescription_Housing Co-op',\n",
    "       'BusinessTypeDescription_Independent Contractors',\n",
    "       'BusinessTypeDescription_Joint Venture',\n",
    "       'BusinessTypeDescription_Limited  Liability Company(LLC)',\n",
    "       'BusinessTypeDescription_Limited Liability Partnership',\n",
    "       'BusinessTypeDescription_Non-Profit Childcare Center',\n",
    "       'BusinessTypeDescription_Non-Profit Organization',\n",
    "       'BusinessTypeDescription_Partnership',\n",
    "       'BusinessTypeDescription_Professional Association',\n",
    "       'BusinessTypeDescription_Self-Employed Individuals',\n",
    "       'BusinessTypeDescription_Single Member LLC',\n",
    "       'BusinessTypeDescription_Sole Proprietorship',\n",
    "       'BusinessTypeDescription_Subchapter S Corporation',\n",
    "       'BusinessTypeDescription_Trust',\n",
    "       'BusinessAgeDescription_Existing or more than 2 years old',\n",
    "       'BusinessAgeDescription_New Business or 2 years or less',\n",
    "       'BusinessAgeDescription_Startup, Loan Funds will Open Business',\n",
    "       'Sex_Male',\n",
    "       'IndustryName_Administrative and Support and Waste Management and Remediation Services',\n",
    "       'IndustryName_Agriculture, Forestry, Fishing and Hunting',\n",
    "       'IndustryName_Arts, Entertainment, and Recreation',\n",
    "       'IndustryName_Construction', 'IndustryName_Educational Services',\n",
    "       'IndustryName_Finance and Insurance',\n",
    "       'IndustryName_Health Care and Social Assistance',\n",
    "       'IndustryName_Information',\n",
    "       'IndustryName_Management of Companies and Enterprises',\n",
    "       'IndustryName_Manufacturing', 'IndustryName_Mining',\n",
    "       'IndustryName_Other Services (except Public Administration)',\n",
    "       'IndustryName_Professional, Scientific, and Technical Services',\n",
    "       'IndustryName_Real Estate Rental and Leasing',\n",
    "       'IndustryName_Retail Trade',\n",
    "       'IndustryName_Transportation and Warehousing', 'IndustryName_Utilities',\n",
    "       'IndustryName_Wholesale Trade', 'HubzoneIndicator_Y', 'LMIIndicator_Y']\n",
    "\n",
    "feature_data = {'Feature': index_values,\n",
    "              'Anova_Score': afs.scores_}\n",
    "\n",
    "featureDF = pd.DataFrame(feature_data)\n",
    "\n",
    "sorted_features = featureDF.sort_values(by='Anova_Score', ascending=False)"
   ]
  },
  {
   "cell_type": "markdown",
   "metadata": {},
   "source": [
    "We've taken the results of a test and put them in a data frame. Below, we're looking at a printout of all the features and their score.\n",
    "\n",
    "We're using this information to determine if there are any columns we should drop. For example, StateName_NewYork is a factor with a relatively higher ANOVA score, so that provides us rationale for keeping all state variables in the model. However, any variable tied to BusinessAgeDescription only begins to show up at the bottom of the list, which leads us to determine that we should remove it from the model."
   ]
  },
  {
   "cell_type": "code",
   "execution_count": 38,
   "metadata": {},
   "outputs": [
    {
     "name": "stdout",
     "output_type": "stream",
     "text": [
      "                                              Feature  Anova_Score\n",
      "52                     Race_Black or African American    2.893e+03\n",
      "53                                         Race_White    1.241e+03\n",
      "33                                 StateName_New York    4.602e+02\n",
      "59    BusinessTypeDescription_Independent Contractors    3.526e+02\n",
      "1                               CurrentApprovalAmount    2.166e+02\n",
      "69        BusinessTypeDescription_Sole Proprietorship    2.097e+02\n",
      "91        IndustryName_Transportation and Warehousing    1.850e+02\n",
      "54                             Ethnicity_Non-Hispanic    1.592e+02\n",
      "10                                  StateName_Florida    1.496e+02\n",
      "95                                     LMIIndicator_Y    1.362e+02\n",
      "6                                StateName_California    1.173e+02\n",
      "28                                 StateName_Nebraska    1.119e+02\n",
      "56                BusinessTypeDescription_Corporation    9.807e+01\n",
      "17                                   StateName_Kansas    8.965e+01\n",
      "16                                     StateName_Iowa    8.459e+01\n",
      "77  IndustryName_Agriculture, Forestry, Fishing an...    8.186e+01\n",
      "67  BusinessTypeDescription_Self-Employed Individuals    8.154e+01\n",
      "2                                   ForgivenessAmount    6.675e+01\n",
      "90                          IndustryName_Retail Trade    6.534e+01\n",
      "31                               StateName_New Jersey    6.287e+01\n",
      "76  IndustryName_Administrative and Support and Wa...    5.925e+01\n",
      "50                                StateName_Wisconsin    5.704e+01\n",
      "24                                StateName_Minnesota    5.452e+01\n",
      "27                                  StateName_Montana    4.720e+01\n",
      "42                             StateName_South Dakota    4.690e+01\n",
      "35                             StateName_North Dakota    4.254e+01\n",
      "82     IndustryName_Health Care and Social Assistance    4.167e+01\n",
      "37                                 StateName_Oklahoma    4.089e+01\n",
      "36                                     StateName_Ohio    4.045e+01\n",
      "85                         IndustryName_Manufacturing    3.811e+01\n",
      "19                                StateName_Louisiana    3.400e+01\n",
      "11                                  StateName_Georgia    3.255e+01\n",
      "26                                 StateName_Missouri    2.982e+01\n",
      "70   BusinessTypeDescription_Subchapter S Corporation    2.907e+01\n",
      "15                                  StateName_Indiana    2.864e+01\n",
      "87  IndustryName_Other Services (except Public Adm...    2.488e+01\n",
      "83                           IndustryName_Information    2.250e+01\n",
      "25                              StateName_Mississippi    2.161e+01\n",
      "94                                 HubzoneIndicator_Y    1.991e+01\n",
      "18                                 StateName_Kentucky    1.867e+01\n",
      "30                            StateName_New Hampshire    1.829e+01\n",
      "20                                    StateName_Maine    1.698e+01\n",
      "49                            StateName_West Virginia    1.652e+01\n",
      "78   IndustryName_Arts, Entertainment, and Recreation    1.472e+01\n",
      "21                                 StateName_Maryland    1.396e+01\n",
      "61  BusinessTypeDescription_Limited  Liability Com...    1.361e+01\n",
      "47                                 StateName_Virginia    1.313e+01\n",
      "5                                  StateName_Arkansas    1.278e+01\n",
      "14                                 StateName_Illinois    1.202e+01\n",
      "29                                   StateName_Nevada    7.559e+00\n",
      "9                                  StateName_Delaware    5.570e+00\n",
      "7                                  StateName_Colorado    5.431e+00\n",
      "40                             StateName_Rhode Island    5.054e+00\n",
      "89        IndustryName_Real Estate Rental and Leasing    4.943e+00\n",
      "23                                 StateName_Michigan    4.617e+00\n",
      "80                  IndustryName_Educational Services    4.530e+00\n",
      "68          BusinessTypeDescription_Single Member LLC    4.494e+00\n",
      "3                                    StateName_Alaska    4.323e+00\n",
      "66   BusinessTypeDescription_Professional Association    4.255e+00\n",
      "44                                    StateName_Texas    4.243e+00\n",
      "43                                StateName_Tennessee    4.166e+00\n",
      "88  IndustryName_Professional, Scientific, and Tec...    4.091e+00\n",
      "62  BusinessTypeDescription_Limited Liability Part...    3.791e+00\n",
      "51                                  StateName_Wyoming    3.721e+00\n",
      "39                             StateName_Pennsylvania    3.494e+00\n",
      "13                                    StateName_Idaho    3.397e+00\n",
      "86                                IndustryName_Mining    3.169e+00\n",
      "48                               StateName_Washington    3.104e+00\n",
      "55                BusinessTypeDescription_Cooperative    3.047e+00\n",
      "81                 IndustryName_Finance and Insurance    3.035e+00\n",
      "8                               StateName_Connecticut    2.698e+00\n",
      "75                                           Sex_Male    2.595e+00\n",
      "71                      BusinessTypeDescription_Trust    2.547e+00\n",
      "65                BusinessTypeDescription_Partnership    2.399e+00\n",
      "73  BusinessAgeDescription_New Business or 2 years...    2.382e+00\n",
      "34                           StateName_North Carolina    2.314e+00\n",
      "63  BusinessTypeDescription_Non-Profit Childcare C...    2.303e+00\n",
      "46                                  StateName_Vermont    1.945e+00\n",
      "38                                   StateName_Oregon    1.887e+00\n",
      "72  BusinessAgeDescription_Existing or more than 2...    1.782e+00\n",
      "12                                   StateName_Hawaii    1.670e+00\n",
      "74  BusinessAgeDescription_Startup, Loan Funds wil...    1.418e+00\n",
      "93                       IndustryName_Wholesale Trade    1.381e+00\n",
      "4                                   StateName_Arizona    1.377e+00\n",
      "64    BusinessTypeDescription_Non-Profit Organization    1.096e+00\n",
      "45                                     StateName_Utah    7.207e-01\n",
      "79                          IndustryName_Construction    5.519e-01\n",
      "32                               StateName_New Mexico    4.553e-01\n",
      "41                           StateName_South Carolina    3.111e-01\n",
      "60              BusinessTypeDescription_Joint Venture    2.878e-01\n",
      "92                             IndustryName_Utilities    2.304e-01\n",
      "58              BusinessTypeDescription_Housing Co-op    1.439e-01\n",
      "22                            StateName_Massachusetts    5.467e-02\n",
      "84  IndustryName_Management of Companies and Enter...    1.912e-02\n",
      "0                                          LoanNumber    7.123e-04\n",
      "57  BusinessTypeDescription_Employee Stock Ownersh...          NaN\n"
     ]
    }
   ],
   "source": [
    "#display these features\n",
    "with pd.option_context('display.max_rows', None,\n",
    "                       'display.max_columns', None,\n",
    "                       'display.precision', 3,\n",
    "                       ):\n",
    "    print(sorted_features)"
   ]
  },
  {
   "cell_type": "markdown",
   "metadata": {},
   "source": [
    "Based on the results, we're dropping loan number and business age description from the model, and then recreating train and test sets with the new data frame."
   ]
  },
  {
   "cell_type": "code",
   "execution_count": 39,
   "metadata": {},
   "outputs": [],
   "source": [
    "remaining_balance_df.drop(columns = ['LoanNumber','BusinessAgeDescription'], inplace=True)\n",
    "\n",
    "df = pd.get_dummies(remaining_balance_df, columns=['StateName', 'LoanStatus', 'Race', 'Ethnicity', 'BusinessTypeDescription','Sex', 'IndustryName','HubzoneIndicator','LMIIndicator'], drop_first=True)\n",
    "x = df.copy().drop(columns='LoanStatus_Paid in Full')\n",
    "y = df.copy()['LoanStatus_Paid in Full']\n",
    "X_train, X_test, y_train, y_test = train_test_split(x, y, test_size=0.2, stratify=df['LoanStatus_Paid in Full'],random_state=1)\n",
    "sc_X = StandardScaler()\n",
    "X_train = sc_X.fit_transform(X_train)\n",
    "X_test = sc_X.transform(X_test)"
   ]
  },
  {
   "cell_type": "markdown",
   "metadata": {},
   "source": [
    "Before starting to tune the hyperparameters, we're running the base KNN model to get an idea of performance and where we might want to tune. We selected KNN because based on preliminary tests using the base model and a subset of our data, it had the best test and train accuracy. K-Nearest Neighbors can be used for both classification and regression analysis, although the former is more common. In classification analysis, the algorithm determines a class for a target data point based on the class of the k nearest neighbors. K is a hyperparameter selected by the user. The other main hyperparameter is the formula the algorithm uses to measure the distance between points."
   ]
  },
  {
   "cell_type": "code",
   "execution_count": null,
   "metadata": {},
   "outputs": [
    {
     "data": {
      "text/plain": [
       "KNeighborsClassifier()"
      ]
     },
     "execution_count": 26,
     "metadata": {},
     "output_type": "execute_result"
    }
   ],
   "source": [
    "#running base model with no tuning\n",
    "classifier = KNeighborsClassifier()\n",
    "classifier.fit(X_train, y_train)"
   ]
  },
  {
   "cell_type": "markdown",
   "metadata": {},
   "source": [
    "The base model has decent performance, with a train accuracy of 0.9 (90% accurate), and a test accuracy of 0.87 (87% accuracy)."
   ]
  },
  {
   "cell_type": "code",
   "execution_count": 27,
   "metadata": {},
   "outputs": [
    {
     "name": "stdout",
     "output_type": "stream",
     "text": [
      "Train Accuracy: 0.904\n",
      "Test Accuracy: 0.874\n"
     ]
    }
   ],
   "source": [
    "#accuracy scores\n",
    "print(f'Train Accuracy: {classifier.score(X_train,y_train):.3f}')\n",
    "print(f'Test Accuracy: {classifier.score(X_test,y_test):.3f}')"
   ]
  },
  {
   "cell_type": "markdown",
   "metadata": {},
   "source": [
    "Based on the confusion matrix, we can see that the model will predict a false positive (that someone will pay back their loan when they probably won't) about 9.6% of the time, and will predict a false negative (that someone won't pay back their loan when they probably will) about 3% of the time. Given that this model would be used in a scenario where a lender is trying to reduce their financial risk, we'll try to reduce the false positive rate with tuning."
   ]
  },
  {
   "cell_type": "code",
   "execution_count": 28,
   "metadata": {},
   "outputs": [
    {
     "name": "stdout",
     "output_type": "stream",
     "text": [
      "[[ 289  934]\n",
      " [ 295 8202]]\n",
      "0.9303011399081268\n"
     ]
    }
   ],
   "source": [
    "#confusion matrix\n",
    "y_pred = classifier.predict(X_test)\n",
    "y_pred\n",
    "cm = confusion_matrix(y_test, y_pred)\n",
    "print (cm)\n",
    "print(f1_score(y_test, y_pred))"
   ]
  },
  {
   "cell_type": "markdown",
   "metadata": {},
   "source": [
    "The first tuning metric we're using is a grid search. Here, SKLearn runs the model with a variety of parameters to determine the optimal parameters for a specific model. We're having the grid search run the model with a list of neighbors between 50 and 500, increasing in increments of 50. We're also testing a variety of distance equations to see which one gets us the best performance."
   ]
  },
  {
   "cell_type": "code",
   "execution_count": 40,
   "metadata": {},
   "outputs": [],
   "source": [
    "#grid search to opitmize parameters\n",
    "\n",
    "# Create a list for number of trees between 20 and 300 and going up by 50\n",
    "neighbors = []\n",
    "for i in range(50,500,50):\n",
    "    neighbors.append(i)\n",
    "\n",
    "# Specify the parameters to test\n",
    "param_grid = {\n",
    "    'n_neighbors': neighbors,\n",
    "    'metric': ['chebyshev', 'cityblock', 'euclidean', 'infinity', 'l1', 'l2', 'manhattan', 'minkowski', 'p']\n",
    "}\n",
    "\n",
    "# Create a model\n",
    "knn = KNeighborsClassifier()\n",
    "\n",
    "#Use grid search\n",
    "grid_search = GridSearchCV(estimator=knn, param_grid=param_grid)"
   ]
  },
  {
   "cell_type": "code",
   "execution_count": 41,
   "metadata": {},
   "outputs": [
    {
     "data": {
      "text/plain": [
       "GridSearchCV(estimator=KNeighborsClassifier(),\n",
       "             param_grid={'metric': ['chebyshev', 'cityblock', 'euclidean',\n",
       "                                    'infinity', 'l1', 'l2', 'manhattan',\n",
       "                                    'minkowski', 'p'],\n",
       "                         'n_neighbors': [50, 100, 150, 200, 250, 300, 350, 400,\n",
       "                                         450]})"
      ]
     },
     "execution_count": 41,
     "metadata": {},
     "output_type": "execute_result"
    }
   ],
   "source": [
    "#fit grid search\n",
    "grid_search.fit(X_train, y_train)"
   ]
  },
  {
   "cell_type": "markdown",
   "metadata": {},
   "source": [
    "According to the grid search, the optimal parameters for our model (within the specifications provided) are k = 50 and the city block equation."
   ]
  },
  {
   "cell_type": "code",
   "execution_count": null,
   "metadata": {},
   "outputs": [
    {
     "data": {
      "text/plain": [
       "{'metric': 'cityblock', 'n_neighbors': 50}"
      ]
     },
     "execution_count": 31,
     "metadata": {},
     "output_type": "execute_result"
    }
   ],
   "source": [
    "#find optimal parameters\n",
    "grid_search.best_params_"
   ]
  },
  {
   "cell_type": "code",
   "execution_count": 32,
   "metadata": {},
   "outputs": [
    {
     "data": {
      "text/plain": [
       "KNeighborsClassifier(metric='cityblock', n_neighbors=50)"
      ]
     },
     "execution_count": 32,
     "metadata": {},
     "output_type": "execute_result"
    }
   ],
   "source": [
    "#fit model with grid search optimal parameters\n",
    "classifier = KNeighborsClassifier(metric = 'cityblock', n_neighbors = 50)\n",
    "classifier.fit(X_train, y_train)"
   ]
  },
  {
   "cell_type": "markdown",
   "metadata": {},
   "source": [
    "When we fit this model based on the grid search, we can see a decrease in accuracy and an increase in false positives compared to the base model."
   ]
  },
  {
   "cell_type": "code",
   "execution_count": 33,
   "metadata": {},
   "outputs": [
    {
     "name": "stdout",
     "output_type": "stream",
     "text": [
      "Train Accuracy: 0.883\n",
      "Test Accuracy: 0.885\n"
     ]
    }
   ],
   "source": [
    "print(f'Train Accuracy: {classifier.score(X_train,y_train):.3f}')\n",
    "print(f'Test Accuracy: {classifier.score(X_test,y_test):.3f}')"
   ]
  },
  {
   "cell_type": "code",
   "execution_count": 34,
   "metadata": {},
   "outputs": [
    {
     "name": "stdout",
     "output_type": "stream",
     "text": [
      "[[ 140 1083]\n",
      " [  36 8461]]\n",
      "0.9379746133806329\n"
     ]
    }
   ],
   "source": [
    "#print confusion matrix\n",
    "y_pred = classifier.predict(X_test)\n",
    "y_pred\n",
    "cm = confusion_matrix(y_test, y_pred)\n",
    "print (cm)\n",
    "print(f1_score(y_test, y_pred))"
   ]
  },
  {
   "cell_type": "markdown",
   "metadata": {},
   "source": [
    "Given that the grid search didn't improve our performance, we're trying another method to find the optimal number for K. Based on time/processing restrictions, the grid search ran in iterations of 50. This search method looking only at k allows us to search in increments of 1. Since the grid search chose k = 50, the lowest number available, we're going to look at 1-50 to find the optimal number for k.\n",
    "\n",
    "This method runs the KNN algorithm with a list of numbers that we provide and then prints the accuracy score."
   ]
  },
  {
   "cell_type": "code",
   "execution_count": 44,
   "metadata": {},
   "outputs": [],
   "source": [
    "k_values = np.arange(1, 50)\n",
    "cross_validation_fold = 10\n",
    "accuracies = []"
   ]
  },
  {
   "cell_type": "code",
   "execution_count": 45,
   "metadata": {},
   "outputs": [
    {
     "name": "stdout",
     "output_type": "stream",
     "text": [
      "[0.9056736555219324, 0.8615969178572366, 0.874560482139545, 0.8627490203152777, 0.8775647498130406, 0.8725439661838326, 0.8771532271792957, 0.8725850464582713, 0.8768444581646888, 0.8739430669149861, 0.8785112349320805, 0.8756509747725362, 0.8779349338591066, 0.8759801208905962, 0.8787169411985903, 0.8773794375885571, 0.8787580892273216, 0.8776880837985089, 0.8789638590134805, 0.8780379288529113, 0.8793547970462516, 0.8785111756470746, 0.8795399652928637, 0.8792107133087217, 0.8799515090998249, 0.8792107641244409, 0.8790255408274662, 0.8788609444778981, 0.8796017275650716, 0.8793136151403742, 0.8799720894661555, 0.8797663027414233, 0.8797868619345375, 0.8794987960909161, 0.8796839770414581, 0.8798692172770058, 0.8799103483671639, 0.8798074677087276, 0.8799926655978426, 0.879930954141354, 0.8797663154453532, 0.8796222528810395, 0.8796634305522737, 0.8797045743463616, 0.8795399610582203, 0.8796222528810397, 0.8800337882187144, 0.8797251462434057, 0.879992652893913]\n"
     ]
    }
   ],
   "source": [
    "accuracies = []\n",
    "for k in k_values:\n",
    "    knn = KNeighborsClassifier(n_neighbors=k)\n",
    "    scores = cross_val_score(knn, x, y, cv=cross_validation_fold, scoring='accuracy', n_jobs=-1)\n",
    "    accuracies.append(scores.mean())\n",
    "print(accuracies)"
   ]
  },
  {
   "cell_type": "markdown",
   "metadata": {},
   "source": [
    "Based on this graph, we can see that we're getting the highest accuracy score with 1 neighbor."
   ]
  },
  {
   "cell_type": "code",
   "execution_count": 46,
   "metadata": {},
   "outputs": [
    {
     "data": {
      "text/plain": [
       "Text(0.5, 0.98, 'kNN hyperparameter (k) tuning with sklearn')"
      ]
     },
     "execution_count": 46,
     "metadata": {},
     "output_type": "execute_result"
    },
    {
     "data": {
      "image/png": "[encoded data removed]",
      "text/plain": [
       "<Figure size 432x288 with 1 Axes>"
      ]
     },
     "metadata": {
      "needs_background": "light"
     },
     "output_type": "display_data"
    }
   ],
   "source": [
    "fig2 = plt.figure()\n",
    "plt.plot(k_values, accuracies)\n",
    "plt.xlabel('k in kNN')\n",
    "plt.ylabel('CV-Accuracy')\n",
    "fig2.suptitle('kNN hyperparameter (k) tuning with sklearn', fontsize=20)"
   ]
  },
  {
   "cell_type": "markdown",
   "metadata": {},
   "source": [
    "Now we'll fit the model with 1 neighbor to check the accuracy and confusion matrix."
   ]
  },
  {
   "cell_type": "code",
   "execution_count": 23,
   "metadata": {},
   "outputs": [
    {
     "data": {
      "text/plain": [
       "KNeighborsClassifier(metric='cityblock', n_neighbors=1)"
      ]
     },
     "execution_count": 23,
     "metadata": {},
     "output_type": "execute_result"
    }
   ],
   "source": [
    "classifier = KNeighborsClassifier(metric = 'cityblock', n_neighbors = 1)\n",
    "classifier.fit(X_train, y_train)"
   ]
  },
  {
   "cell_type": "markdown",
   "metadata": {},
   "source": [
    "Based on these results, this model could potentially be overfit, with a train accuracy of 1. However, the test accuracy is lower, showing that the model isn't necessarly overfitting the results. \n",
    "\n",
    "Looking at the confusion matrix, we have reduced our false positives to 5.9%, which is ideal for the purposes of a loan model. Therefore, this is the optimal model for this data."
   ]
  },
  {
   "cell_type": "code",
   "execution_count": 48,
   "metadata": {},
   "outputs": [
    {
     "name": "stdout",
     "output_type": "stream",
     "text": [
      "Train Accuracy: 1.000\n",
      "Test Accuracy: 0.885\n"
     ]
    }
   ],
   "source": [
    "print(f'Train Accuracy: {classifier.score(X_train,y_train):.3f}')\n",
    "print(f'Test Accuracy: {classifier.score(X_test,y_test):.3f}')"
   ]
  },
  {
   "cell_type": "code",
   "execution_count": 49,
   "metadata": {},
   "outputs": [
    {
     "name": "stdout",
     "output_type": "stream",
     "text": [
      "[[ 647  576]\n",
      " [ 546 7951]]\n",
      "0.934093045112782\n"
     ]
    }
   ],
   "source": [
    "#print confusion matrix\n",
    "y_pred = classifier.predict(X_test)\n",
    "y_pred\n",
    "cm = confusion_matrix(y_test, y_pred)\n",
    "print (cm)\n",
    "print(f1_score(y_test, y_pred))"
   ]
  }
 ],
 "metadata": {
  "kernelspec": {
   "display_name": "Python 3.9.12 ('base')",
   "language": "python",
   "name": "python3"
  },
  "language_info": {
   "codemirror_mode": {
    "name": "ipython",
    "version": 3
   },
   "file_extension": ".py",
   "mimetype": "text/x-python",
   "name": "python",
   "nbconvert_exporter": "python",
   "pygments_lexer": "ipython3",
   "version": "3.9.12"
  },
  "orig_nbformat": 4,
  "vscode": {
   "interpreter": {
    "hash": "8f3967fce7f196be6a554692a12c8eda7502595c9702682fc9683945844ae9f3"
   }
  }
 },
 "nbformat": 4,
 "nbformat_minor": 2
}
